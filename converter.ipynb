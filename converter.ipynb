{
 "cells": [
  {
   "cell_type": "code",
   "execution_count": null,
   "metadata": {},
   "outputs": [],
   "source": [
    "# import csv\n",
    "# import os\n",
    "\n",
    "# dir1 = r'C:\\Users\\joao.coaglio\\Downloads\\Sample\\action\\ACTION\\pc'\n",
    "\n",
    "# for root, _, files in os.walk(dir1):\n",
    "#     for file in files:\n",
    "#         file_path1 = os.path.join(root, file)\n",
    "#         parts = file_path1.split('\\\\')\n",
    "#         last_part = parts[-1]\n",
    "#         file_name, type_file = os.path.splitext(last_part)\n",
    "#         # print(nome_base,extensao)\n",
    "#         # file_name = last_part.split('.')[0]\n",
    "#         # type_file = last_part.split('.')[1]\n",
    "\n",
    "\n",
    "#         if type_file == '.csv':\n",
    "#             with open(file_path1, 'r') as csv_input, open(file_name + '.dat', 'wb') as dat_output:\n",
    "#              csv_reader = csv.reader(csv_input)\n",
    "#              for row in csv_reader:\n",
    "#               dat_output.write(','.join(row).encode() + b'\\n')\n",
    "#         if type_file == '.dat':\n",
    "#             with open(file_path1, 'rb') as dat_input, open(file_name + '.csv', 'w', newline='') as csv_output:\n",
    "#              for line in dat_input:\n",
    "#               csv_output.write(line)\n",
    "           \n",
    "\n",
    "\n"
   ]
  },
  {
   "cell_type": "code",
   "execution_count": null,
   "metadata": {},
   "outputs": [],
   "source": [
    "import os\n",
    "import csv\n",
    "\n",
    "dir1 = r'C:\\Users\\joao.coaglio\\Downloads\\Sample\\action\\ACTION\\pc'\n",
    "\n",
    "for root, _, files in os.walk(dir1):\n",
    "    for file in files:\n",
    "        file_path1 = os.path.join(root, file)\n",
    "        parts = file_path1.split('\\\\')\n",
    "        last_part = parts[-1]\n",
    "        file_name, type_file = os.path.splitext(last_part)\n",
    "\n",
    "        if type_file == '.csv':\n",
    "            with open(file_path1, 'r') as csv_input, open(file_name + '.dat', 'wb') as dat_output:\n",
    "                csv_reader = csv.reader(csv_input)\n",
    "                for row in csv_reader:\n",
    "                    dat_output.write(','.join(row).encode() + b'\\n')\n",
    "        if type_file == '.dat':\n",
    "            with open(file_path1, 'rb') as dat_input, open(file_name + '.csv', 'wb') as csv_output:\n",
    "                for line in dat_input:\n",
    "                    csv_output.write(line)\n"
   ]
  }
 ],
 "metadata": {
  "kernelspec": {
   "display_name": "Python 3",
   "language": "python",
   "name": "python3"
  },
  "language_info": {
   "codemirror_mode": {
    "name": "ipython",
    "version": 3
   },
   "file_extension": ".py",
   "mimetype": "text/x-python",
   "name": "python",
   "nbconvert_exporter": "python",
   "pygments_lexer": "ipython3",
   "version": "3.10.11"
  },
  "orig_nbformat": 4
 },
 "nbformat": 4,
 "nbformat_minor": 2
}
